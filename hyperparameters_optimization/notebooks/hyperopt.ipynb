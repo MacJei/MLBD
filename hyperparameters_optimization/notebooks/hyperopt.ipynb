{
 "cells": [
  {
   "cell_type": "markdown",
   "metadata": {
    "toc": true
   },
   "source": [
    "<h1>Table of Contents<span class=\"tocSkip\"></span></h1>\n",
    "<div class=\"toc\"><ul class=\"toc-item\"><li><span><a href=\"#Spark-MLlib-Tuning\" data-toc-modified-id=\"Spark-MLlib-Tuning-1\"><span class=\"toc-item-num\">1&nbsp;&nbsp;</span><a href=\"https://spark.apache.org/docs/latest/ml-tuning.html\" target=\"_blank\">Spark MLlib Tuning</a></a></span></li><li><span><a href=\"#Hyperopt\" data-toc-modified-id=\"Hyperopt-2\"><span class=\"toc-item-num\">2&nbsp;&nbsp;</span><a href=\"https://github.com/hyperopt/hyperopt\" target=\"_blank\">Hyperopt</a></a></span><ul class=\"toc-item\"><li><span><a href=\"#XGBoost-Tuning\" data-toc-modified-id=\"XGBoost-Tuning-2.1\"><span class=\"toc-item-num\">2.1&nbsp;&nbsp;</span><a href=\"https://www.analyticsvidhya.com/blog/2016/03/complete-guide-parameter-tuning-xgboost-with-codes-python/\" target=\"_blank\">XGBoost Tuning</a></a></span><ul class=\"toc-item\"><li><span><a href=\"#Objective-function\" data-toc-modified-id=\"Objective-function-2.1.1\"><span class=\"toc-item-num\">2.1.1&nbsp;&nbsp;</span>Objective function</a></span></li><li><span><a href=\"#Tune-number-of-trees\" data-toc-modified-id=\"Tune-number-of-trees-2.1.2\"><span class=\"toc-item-num\">2.1.2&nbsp;&nbsp;</span>Tune number of trees</a></span></li><li><span><a href=\"#Tune-tree-specific-parameters\" data-toc-modified-id=\"Tune-tree-specific-parameters-2.1.3\"><span class=\"toc-item-num\">2.1.3&nbsp;&nbsp;</span>Tune tree-specific parameters</a></span><ul class=\"toc-item\"><li><span><a href=\"#Tune-max_depth,-min_child_weight\" data-toc-modified-id=\"Tune-max_depth,-min_child_weight-2.1.3.1\"><span class=\"toc-item-num\">2.1.3.1&nbsp;&nbsp;</span>Tune max_depth, min_child_weight</a></span></li><li><span><a href=\"#Tune-gamma\" data-toc-modified-id=\"Tune-gamma-2.1.3.2\"><span class=\"toc-item-num\">2.1.3.2&nbsp;&nbsp;</span>Tune gamma</a></span></li><li><span><a href=\"#Tune-subsample,-colsample_bytree\" data-toc-modified-id=\"Tune-subsample,-colsample_bytree-2.1.3.3\"><span class=\"toc-item-num\">2.1.3.3&nbsp;&nbsp;</span>Tune subsample, colsample_bytree</a></span></li></ul></li><li><span><a href=\"#Tune-regularization-parameters\" data-toc-modified-id=\"Tune-regularization-parameters-2.1.4\"><span class=\"toc-item-num\">2.1.4&nbsp;&nbsp;</span>Tune regularization parameters</a></span></li><li><span><a href=\"#Lower-the-learning-rate-and-decide-the-optimal-parameters\" data-toc-modified-id=\"Lower-the-learning-rate-and-decide-the-optimal-parameters-2.1.5\"><span class=\"toc-item-num\">2.1.5&nbsp;&nbsp;</span>Lower the learning rate and decide the optimal parameters</a></span></li></ul></li><li><span><a href=\"#LogisticRegression-Tuning\" data-toc-modified-id=\"LogisticRegression-Tuning-2.2\"><span class=\"toc-item-num\">2.2&nbsp;&nbsp;</span>LogisticRegression Tuning</a></span></li><li><span><a href=\"#Optional-MongoTrials\" data-toc-modified-id=\"Optional-MongoTrials-2.3\"><span class=\"toc-item-num\">2.3&nbsp;&nbsp;</span>Optional <a href=\"https://hyperopt.github.io/hyperopt/scaleout/mongodb/\" target=\"_blank\">MongoTrials</a></a></span><ul class=\"toc-item\"><li><span><a href=\"#XGBoost-Tuning\" data-toc-modified-id=\"XGBoost-Tuning-2.3.1\"><span class=\"toc-item-num\">2.3.1&nbsp;&nbsp;</span>XGBoost Tuning</a></span></li></ul></li></ul></li><li><span><a href=\"#Results\" data-toc-modified-id=\"Results-3\"><span class=\"toc-item-num\">3&nbsp;&nbsp;</span>Results</a></span></li></ul></div>"
   ]
  },
  {
   "cell_type": "markdown",
   "metadata": {},
   "source": [
    "Продолжаем работать над задачей CTR-prediction с использованием датасета от Criteo.\n",
    "\n",
    "Описание задачи и данных можно посмотреть в notebook'e предыдущей практики (`sgd_logreg_nn/notebooks/ctr_prediction_mllib.ipynb`)."
   ]
  },
  {
   "cell_type": "code",
   "execution_count": 77,
   "metadata": {},
   "outputs": [],
   "source": [
    "%matplotlib inline\n",
    "%config InlineBackend.figure_format ='retina'\n",
    "\n",
    "import os\n",
    "import sys\n",
    "import glob\n",
    "import pickle\n",
    "import seaborn as sns\n",
    "import matplotlib.pyplot as plt\n",
    "import numpy as np\n",
    "import pandas as pd\n",
    "\n",
    "import pyspark\n",
    "import pyspark.sql.functions as F\n",
    "from pyspark.conf import SparkConf\n",
    "from pyspark.sql import SQLContext\n",
    "from pyspark.sql import SparkSession\n",
    "from pyspark.sql import Row\n",
    "\n",
    "COMMON_PATH = '../../common'\n",
    "\n",
    "sys.path.append(os.path.join(COMMON_PATH, 'utils'))\n",
    "\n",
    "os.environ['PYSPARK_SUBMIT_ARGS'] = \"\"\"\n",
    "--jars {common}/xgboost4j-spark-0.72.jar,{common}/xgboost4j-0.72.jar\n",
    "--py-files {common}/sparkxgb.zip pyspark-shell\n",
    "\"\"\".format(common=COMMON_PATH).replace('\\n', ' ')\n",
    "\n",
    "spark = SparkSession \\\n",
    "    .builder \\\n",
    "    .master('local[*]') \\\n",
    "    .appName(\"spark_sql_examples\") \\\n",
    "    .config(\"spark.driver.memory\", \"32g\") \\\n",
    "    .config(\"spark.executor.memory\", \"32g\") \\\n",
    "    .getOrCreate()\n",
    "\n",
    "sc = spark.sparkContext\n",
    "sqlContext = SQLContext(sc)\n",
    "\n",
    "from metrics import rocauc, logloss, ne, get_ate\n",
    "from processing import split_by_col\n",
    "\n",
    "from sparkxgb.xgboost import *"
   ]
  },
  {
   "cell_type": "code",
   "execution_count": 78,
   "metadata": {},
   "outputs": [],
   "source": [
    "DATA_PATH = '/home/stanislavv/data/criteo'\n",
    "\n",
    "TRAIN_PATH = os.path.join(DATA_PATH, 'train.csv')\n",
    "TEST_PATH = os.path.join(DATA_PATH, 'test.csv')\n",
    "SUBMISSION_PATH = os.path.join(DATA_PATH, 'submission.csv')\n",
    "DATA_PROCESSING_MODEL_CHECKPOINT = os.path.join(DATA_PATH, 'data_processing_model.bin')"
   ]
  },
  {
   "cell_type": "code",
   "execution_count": 3,
   "metadata": {},
   "outputs": [],
   "source": [
    "df = sqlContext.read.format(\"com.databricks.spark.csv\") \\\n",
    "    .option(\"delimiter\", \",\") \\\n",
    "    .option(\"header\", \"true\") \\\n",
    "    .option(\"inferSchema\", \"true\") \\\n",
    "    .load('file:///' + TRAIN_PATH)"
   ]
  },
  {
   "cell_type": "markdown",
   "metadata": {},
   "source": [
    "**Remark** Необязательно использовать половину датасета и всего две категориальные переменные. Можно использовать больше данных, если вам позволяет ваша конфигурация"
   ]
  },
  {
   "cell_type": "code",
   "execution_count": 4,
   "metadata": {},
   "outputs": [],
   "source": [
    "df = df.sample(False, 0.5)"
   ]
  },
  {
   "cell_type": "code",
   "execution_count": 5,
   "metadata": {},
   "outputs": [
    {
     "data": {
      "text/plain": [
       "(13, 2)"
      ]
     },
     "execution_count": 5,
     "metadata": {},
     "output_type": "execute_result"
    }
   ],
   "source": [
    "num_columns = ['_c{}'.format(i) for i in range(1, 14)]\n",
    "cat_columns = ['_c{}'.format(i) for i in range(14, 40)][:2]\n",
    "len(num_columns), len(cat_columns)"
   ]
  },
  {
   "cell_type": "code",
   "execution_count": 6,
   "metadata": {},
   "outputs": [],
   "source": [
    "df = df.fillna(0, subset=num_columns)"
   ]
  },
  {
   "cell_type": "code",
   "execution_count": 9,
   "metadata": {},
   "outputs": [],
   "source": [
    "from pyspark.ml import PipelineModel\n",
    "\n",
    "\n",
    "pipeline_model = PipelineModel.load(DATA_PROCESSING_MODEL_CHECKPOINT)"
   ]
  },
  {
   "cell_type": "code",
   "execution_count": 10,
   "metadata": {},
   "outputs": [
    {
     "data": {
      "text/plain": [
       "1833186"
      ]
     },
     "execution_count": 10,
     "metadata": {},
     "output_type": "execute_result"
    }
   ],
   "source": [
    "df = pipeline_model \\\n",
    "    .transform(df) \\\n",
    "    .select(F.col('_c0').alias('label'), 'features', 'id') \\\n",
    "    .cache()\n",
    "\n",
    "df.count()"
   ]
  },
  {
   "cell_type": "code",
   "execution_count": 11,
   "metadata": {},
   "outputs": [],
   "source": [
    "train_df, val_df, test_df = split_by_col(df, 'id', [0.8, 0.1, 0.1])"
   ]
  },
  {
   "cell_type": "markdown",
   "metadata": {},
   "source": [
    "# [Spark MLlib Tuning](https://spark.apache.org/docs/latest/ml-tuning.html)\n",
    "\n",
    "У имеющегося в Spark'e метода HPO есть два существенных недостатка, которые делают его мало пригодным в контексте нашей задачи:\n",
    "\n",
    "1. `ParamGridBuilder` - поиск по сетке\n",
    "2. `TrainValidationSplit` - делит данные случайнм образом"
   ]
  },
  {
   "cell_type": "code",
   "execution_count": 12,
   "metadata": {},
   "outputs": [
    {
     "data": {
      "text/plain": [
       "Ellipsis"
      ]
     },
     "execution_count": 12,
     "metadata": {},
     "output_type": "execute_result"
    }
   ],
   "source": [
    "..."
   ]
  },
  {
   "cell_type": "markdown",
   "metadata": {},
   "source": [
    "# [Hyperopt](https://github.com/hyperopt/hyperopt)\n",
    "\n",
    "Установим `hyperopt`"
   ]
  },
  {
   "cell_type": "code",
   "execution_count": 13,
   "metadata": {},
   "outputs": [
    {
     "name": "stdout",
     "output_type": "stream",
     "text": [
      "Collecting hyperopt\n",
      "  Downloading hyperopt-0.2.3-py3-none-any.whl (1.9 MB)\n",
      "\u001b[K     |████████████████████████████████| 1.9 MB 4.8 MB/s eta 0:00:01\n",
      "\u001b[?25hRequirement already satisfied: tqdm in /home/stanislavv/Apps/Conda/envs/bd/lib/python3.5/site-packages (from hyperopt) (4.43.0)\n",
      "Requirement already satisfied: numpy in /home/stanislavv/.local/lib/python3.5/site-packages (from hyperopt) (1.18.0)\n",
      "Requirement already satisfied: future in /home/stanislavv/.local/lib/python3.5/site-packages (from hyperopt) (0.18.2)\n",
      "Requirement already satisfied: cloudpickle in /home/stanislavv/.local/lib/python3.5/site-packages (from hyperopt) (1.2.2)\n",
      "Collecting networkx==2.2\n",
      "  Downloading networkx-2.2.zip (1.7 MB)\n",
      "\u001b[K     |████████████████████████████████| 1.7 MB 4.1 MB/s eta 0:00:01\n",
      "\u001b[?25hRequirement already satisfied: scipy in /home/stanislavv/.local/lib/python3.5/site-packages (from hyperopt) (1.4.1)\n",
      "Requirement already satisfied: six in /home/stanislavv/Apps/Conda/envs/bd/lib/python3.5/site-packages (from hyperopt) (1.11.0)\n",
      "Requirement already satisfied: decorator>=4.3.0 in /home/stanislavv/.local/lib/python3.5/site-packages (from networkx==2.2->hyperopt) (4.4.1)\n",
      "Building wheels for collected packages: networkx\n",
      "  Building wheel for networkx (setup.py) ... \u001b[?25ldone\n",
      "\u001b[?25h  Created wheel for networkx: filename=networkx-2.2-py2.py3-none-any.whl size=1526315 sha256=c72380cfad3f49c381edc4fcbc5e762a04adb22ddc37d593081e8dd6ce32afe7\n",
      "  Stored in directory: /home/stanislavv/.cache/pip/wheels/d7/04/13/c8e685a798c75f7aa1f6b0a4aaf201bd6422bb933981cd47f7\n",
      "Successfully built networkx\n",
      "Installing collected packages: networkx, hyperopt\n",
      "  Attempting uninstall: networkx\n",
      "    Found existing installation: networkx 2.4\n",
      "    Uninstalling networkx-2.4:\n",
      "      Successfully uninstalled networkx-2.4\n",
      "Successfully installed hyperopt-0.2.3 networkx-2.2\n"
     ]
    }
   ],
   "source": [
    "!pip install hyperopt"
   ]
  },
  {
   "cell_type": "markdown",
   "metadata": {},
   "source": [
    "## [XGBoost Tuning](https://www.analyticsvidhya.com/blog/2016/03/complete-guide-parameter-tuning-xgboost-with-codes-python/)\n",
    "\n",
    "> [Notes on Parameter Tuning](https://xgboost.readthedocs.io/en/latest/tutorials/param_tuning.html)\n",
    "\n",
    "### Objective function"
   ]
  },
  {
   "cell_type": "code",
   "execution_count": 14,
   "metadata": {},
   "outputs": [],
   "source": [
    "from hyperopt import fmin, tpe, hp, Trials, STATUS_OK\n",
    "import scipy.stats as st\n",
    "\n",
    "\n",
    "def objective(space):\n",
    "    estimator = XGBoostEstimator(**space)\n",
    "    print('SPACE:', estimator._input_kwargs_processed())\n",
    "    success = False\n",
    "    attempts = 0\n",
    "    model = None\n",
    "    while not success and attempts < 2:\n",
    "        try:\n",
    "            model = estimator.fit(train_df)\n",
    "            success = True\n",
    "        except Exception as e:\n",
    "            attempts += 1\n",
    "            print(e)\n",
    "            print('Try again')\n",
    "        \n",
    "    log_loss = logloss(model, val_df, probabilities_col='probabilities')\n",
    "    roc_auc = rocauc(model, val_df, probabilities_col='probabilities')\n",
    "    \n",
    "    print('LOG-LOSS: {}, ROC-AUC: {}'.format(log_loss, roc_auc))\n",
    "\n",
    "    return {'loss': log_loss, 'rocauc': roc_auc, 'status': STATUS_OK }"
   ]
  },
  {
   "cell_type": "code",
   "execution_count": 16,
   "metadata": {},
   "outputs": [],
   "source": [
    "static_params = {\n",
    "    'featuresCol': \"features\", \n",
    "    'labelCol': \"label\", \n",
    "    'predictionCol': \"prediction\",\n",
    "    'eval_metric': 'logloss',\n",
    "    'objective': 'binary:logistic',\n",
    "    'nthread': 1,\n",
    "    'silent': 0,\n",
    "    'nworkers': 1\n",
    "}"
   ]
  },
  {
   "cell_type": "markdown",
   "metadata": {},
   "source": [
    "Fix baseline parameters and train baseline model"
   ]
  },
  {
   "cell_type": "code",
   "execution_count": 17,
   "metadata": {},
   "outputs": [],
   "source": [
    "CONTROL_NAME = 'xgb baseline'\n",
    "\n",
    "baseline_params = {\n",
    "    'colsample_bytree': 0.9,\n",
    "    'eta': 0.15,\n",
    "    'gamma': 0.9,\n",
    "    'max_depth': 6,\n",
    "    'min_child_weight': 50.0,\n",
    "    'subsample': 0.9,\n",
    "    'num_round': 20\n",
    "}\n",
    "\n",
    "baseline_model = XGBoostEstimator(**{**static_params, **baseline_params}).fit(train_df)"
   ]
  },
  {
   "cell_type": "code",
   "execution_count": 46,
   "metadata": {},
   "outputs": [
    {
     "data": {
      "text/plain": [
       "{'colsample_bytree': 0.9,\n",
       " 'eta': 0.15,\n",
       " 'eval_metric': 'logloss',\n",
       " 'featuresCol': 'features',\n",
       " 'gamma': 0.9,\n",
       " 'labelCol': 'label',\n",
       " 'max_depth': 6,\n",
       " 'min_child_weight': 50.0,\n",
       " 'nthread': 1,\n",
       " 'num_round': 20,\n",
       " 'nworkers': 1,\n",
       " 'objective': 'binary:logistic',\n",
       " 'predictionCol': 'prediction',\n",
       " 'silent': 0,\n",
       " 'subsample': 0.9}"
      ]
     },
     "execution_count": 46,
     "metadata": {},
     "output_type": "execute_result"
    }
   ],
   "source": [
    "xgb_baseline_space = dict(**{**static_params, **baseline_params})\n",
    "xgb_baseline_space"
   ]
  },
  {
   "cell_type": "code",
   "execution_count": 18,
   "metadata": {},
   "outputs": [
    {
     "data": {
      "text/plain": [
       "0.7271829091740122"
      ]
     },
     "execution_count": 18,
     "metadata": {},
     "output_type": "execute_result"
    }
   ],
   "source": [
    "baseline_rocauc = rocauc(baseline_model, val_df, probabilities_col='probabilities')\n",
    "baseline_rocauc"
   ]
  },
  {
   "cell_type": "code",
   "execution_count": 19,
   "metadata": {},
   "outputs": [],
   "source": [
    "all_metrics = {}"
   ]
  },
  {
   "cell_type": "code",
   "execution_count": 20,
   "metadata": {},
   "outputs": [],
   "source": [
    "baseline_test_metrics = {\n",
    "    'logloss': logloss(baseline_model, test_df, probabilities_col='probabilities'),\n",
    "    'rocauc': rocauc(baseline_model, test_df, probabilities_col='probabilities')\n",
    "}\n",
    "\n",
    "all_metrics[CONTROL_NAME] = baseline_test_metrics"
   ]
  },
  {
   "cell_type": "markdown",
   "metadata": {},
   "source": [
    "### Tune number of trees\n",
    "\n",
    "> Choose a relatively high learning rate. Generally a learning rate of 0.1 works but somewhere between 0.05 to 0.3 should work for different problems. Determine the optimum number of trees for this learning rate."
   ]
  },
  {
   "cell_type": "code",
   "execution_count": 21,
   "metadata": {
    "scrolled": true
   },
   "outputs": [
    {
     "name": "stdout",
     "output_type": "stream",
     "text": [
      "SPACE:                                                \n",
      "{'max_depth': 6, 'objective': 'binary:logistic', 'nthread': 1, 'predictionCol': 'prediction', 'min_child_weight': 50.0, 'nworkers': 1, 'silent': 0, 'eval_metric': 'logloss', 'subsample': 0.9, 'gamma': 0.9, 'eta': 0.5, 'colsample_bytree': 0.9, 'featuresCol': 'features', 'num_round': 10, 'labelCol': 'label'}\n",
      "LOG-LOSS: 0.5078780628280688, ROC-AUC: 0.7287123616296299\n",
      "SPACE:                                                                          \n",
      "{'max_depth': 6, 'objective': 'binary:logistic', 'nthread': 1, 'predictionCol': 'prediction', 'min_child_weight': 50.0, 'nworkers': 1, 'silent': 0, 'eval_metric': 'logloss', 'subsample': 0.9, 'gamma': 0.9, 'eta': 0.2, 'colsample_bytree': 0.9, 'featuresCol': 'features', 'num_round': 40, 'labelCol': 'label'}\n",
      "LOG-LOSS: 0.5050163785773465, ROC-AUC: 0.7330245029524183                       \n",
      "SPACE:                                                                          \n",
      "{'max_depth': 6, 'objective': 'binary:logistic', 'nthread': 1, 'predictionCol': 'prediction', 'min_child_weight': 50.0, 'nworkers': 1, 'silent': 0, 'eval_metric': 'logloss', 'subsample': 0.9, 'gamma': 0.9, 'eta': 0.15, 'colsample_bytree': 0.9, 'featuresCol': 'features', 'num_round': 40, 'labelCol': 'label'}\n",
      "LOG-LOSS: 0.5060014756979921, ROC-AUC: 0.731699119443712                        \n",
      "SPACE:                                                                          \n",
      "{'max_depth': 6, 'objective': 'binary:logistic', 'nthread': 1, 'predictionCol': 'prediction', 'min_child_weight': 50.0, 'nworkers': 1, 'silent': 0, 'eval_metric': 'logloss', 'subsample': 0.9, 'gamma': 0.9, 'eta': 0.2, 'colsample_bytree': 0.9, 'featuresCol': 'features', 'num_round': 10, 'labelCol': 'label'}\n",
      "LOG-LOSS: 0.5159792711875602, ROC-AUC: 0.7240145292147223                       \n",
      "SPACE:                                                                          \n",
      "{'max_depth': 6, 'objective': 'binary:logistic', 'nthread': 1, 'predictionCol': 'prediction', 'min_child_weight': 50.0, 'nworkers': 1, 'silent': 0, 'eval_metric': 'logloss', 'subsample': 0.9, 'gamma': 0.9, 'eta': 0.3, 'colsample_bytree': 0.9, 'featuresCol': 'features', 'num_round': 100, 'labelCol': 'label'}\n",
      "LOG-LOSS: 0.500513959536055, ROC-AUC: 0.7386819178312425                        \n",
      "SPACE:                                                                          \n",
      "{'max_depth': 6, 'objective': 'binary:logistic', 'nthread': 1, 'predictionCol': 'prediction', 'min_child_weight': 50.0, 'nworkers': 1, 'silent': 0, 'eval_metric': 'logloss', 'subsample': 0.9, 'gamma': 0.9, 'eta': 0.2, 'colsample_bytree': 0.9, 'featuresCol': 'features', 'num_round': 10, 'labelCol': 'label'}\n",
      "LOG-LOSS: 0.5159792711875602, ROC-AUC: 0.724014529214722                       \n",
      "SPACE:                                                                         \n",
      "{'max_depth': 6, 'objective': 'binary:logistic', 'nthread': 1, 'predictionCol': 'prediction', 'min_child_weight': 50.0, 'nworkers': 1, 'silent': 0, 'eval_metric': 'logloss', 'subsample': 0.9, 'gamma': 0.9, 'eta': 0.1, 'colsample_bytree': 0.9, 'featuresCol': 'features', 'num_round': 10, 'labelCol': 'label'}\n",
      "LOG-LOSS: 0.54395640255342, ROC-AUC: 0.7205414189939416                        \n",
      "SPACE:                                                                         \n",
      "{'max_depth': 6, 'objective': 'binary:logistic', 'nthread': 1, 'predictionCol': 'prediction', 'min_child_weight': 50.0, 'nworkers': 1, 'silent': 0, 'eval_metric': 'logloss', 'subsample': 0.9, 'gamma': 0.9, 'eta': 0.5, 'colsample_bytree': 0.9, 'featuresCol': 'features', 'num_round': 10, 'labelCol': 'label'}\n",
      "LOG-LOSS: 0.5078780628280688, ROC-AUC: 0.7287123616296306                      \n",
      "SPACE:                                                                         \n",
      "{'max_depth': 6, 'objective': 'binary:logistic', 'nthread': 1, 'predictionCol': 'prediction', 'min_child_weight': 50.0, 'nworkers': 1, 'silent': 0, 'eval_metric': 'logloss', 'subsample': 0.9, 'gamma': 0.9, 'eta': 0.5, 'colsample_bytree': 0.9, 'featuresCol': 'features', 'num_round': 100, 'labelCol': 'label'}\n",
      "LOG-LOSS: 0.5001351069105767, ROC-AUC: 0.7393472210735986                      \n",
      "SPACE:                                                                          \n",
      "{'max_depth': 6, 'objective': 'binary:logistic', 'nthread': 1, 'predictionCol': 'prediction', 'min_child_weight': 50.0, 'nworkers': 1, 'silent': 0, 'eval_metric': 'logloss', 'subsample': 0.9, 'gamma': 0.9, 'eta': 0.5, 'colsample_bytree': 0.9, 'featuresCol': 'features', 'num_round': 10, 'labelCol': 'label'}\n",
      "LOG-LOSS: 0.5078780628280688, ROC-AUC: 0.7287123616296309                       \n",
      "SPACE:                                                                           \n",
      "{'max_depth': 6, 'objective': 'binary:logistic', 'nthread': 1, 'predictionCol': 'prediction', 'min_child_weight': 50.0, 'nworkers': 1, 'silent': 0, 'eval_metric': 'logloss', 'subsample': 0.9, 'gamma': 0.9, 'eta': 0.15, 'colsample_bytree': 0.9, 'featuresCol': 'features', 'num_round': 10, 'labelCol': 'label'}\n",
      "LOG-LOSS: 0.5245153988100993, ROC-AUC: 0.7226941041875338                        \n",
      "SPACE:                                                                           \n",
      "{'max_depth': 6, 'objective': 'binary:logistic', 'nthread': 1, 'predictionCol': 'prediction', 'min_child_weight': 50.0, 'nworkers': 1, 'silent': 0, 'eval_metric': 'logloss', 'subsample': 0.9, 'gamma': 0.9, 'eta': 0.1, 'colsample_bytree': 0.9, 'featuresCol': 'features', 'num_round': 20, 'labelCol': 'label'}\n",
      "LOG-LOSS: 0.5166025608984102, ROC-AUC: 0.7243405470041898                        \n",
      "SPACE:                                                                           \n",
      "{'max_depth': 6, 'objective': 'binary:logistic', 'nthread': 1, 'predictionCol': 'prediction', 'min_child_weight': 50.0, 'nworkers': 1, 'silent': 0, 'eval_metric': 'logloss', 'subsample': 0.9, 'gamma': 0.9, 'eta': 0.2, 'colsample_bytree': 0.9, 'featuresCol': 'features', 'num_round': 40, 'labelCol': 'label'}\n",
      "LOG-LOSS: 0.5050163785773465, ROC-AUC: 0.7330245029524174                        \n",
      "SPACE:                                                                           \n",
      "{'max_depth': 6, 'objective': 'binary:logistic', 'nthread': 1, 'predictionCol': 'prediction', 'min_child_weight': 50.0, 'nworkers': 1, 'silent': 0, 'eval_metric': 'logloss', 'subsample': 0.9, 'gamma': 0.9, 'eta': 0.5, 'colsample_bytree': 0.9, 'featuresCol': 'features', 'num_round': 10, 'labelCol': 'label'}\n",
      "LOG-LOSS: 0.5078780628280688, ROC-AUC: 0.7287123616296305                        \n",
      "SPACE:                                                                           \n",
      "{'max_depth': 6, 'objective': 'binary:logistic', 'nthread': 1, 'predictionCol': 'prediction', 'min_child_weight': 50.0, 'nworkers': 1, 'silent': 0, 'eval_metric': 'logloss', 'subsample': 0.9, 'gamma': 0.9, 'eta': 0.1, 'colsample_bytree': 0.9, 'featuresCol': 'features', 'num_round': 40, 'labelCol': 'label'}\n",
      "LOG-LOSS: 0.5078009928978581, ROC-AUC: 0.7294692279923951                        \n",
      "SPACE:                                                                           \n",
      "{'max_depth': 6, 'objective': 'binary:logistic', 'nthread': 1, 'predictionCol': 'prediction', 'min_child_weight': 50.0, 'nworkers': 1, 'silent': 0, 'eval_metric': 'logloss', 'subsample': 0.9, 'gamma': 0.9, 'eta': 0.5, 'colsample_bytree': 0.9, 'featuresCol': 'features', 'num_round': 100, 'labelCol': 'label'}\n",
      "LOG-LOSS: 0.5001351069105767, ROC-AUC: 0.7393472210736013                        \n",
      "SPACE:                                                                           \n",
      "{'max_depth': 6, 'objective': 'binary:logistic', 'nthread': 1, 'predictionCol': 'prediction', 'min_child_weight': 50.0, 'nworkers': 1, 'silent': 0, 'eval_metric': 'logloss', 'subsample': 0.9, 'gamma': 0.9, 'eta': 0.1, 'colsample_bytree': 0.9, 'featuresCol': 'features', 'num_round': 40, 'labelCol': 'label'}\n",
      "LOG-LOSS: 0.5078009928978581, ROC-AUC: 0.7294692279923919                        \n",
      "SPACE:                                                                           \n",
      "{'max_depth': 6, 'objective': 'binary:logistic', 'nthread': 1, 'predictionCol': 'prediction', 'min_child_weight': 50.0, 'nworkers': 1, 'silent': 0, 'eval_metric': 'logloss', 'subsample': 0.9, 'gamma': 0.9, 'eta': 0.2, 'colsample_bytree': 0.9, 'featuresCol': 'features', 'num_round': 20, 'labelCol': 'label'}\n"
     ]
    },
    {
     "name": "stdout",
     "output_type": "stream",
     "text": [
      "LOG-LOSS: 0.5079063546012836, ROC-AUC: 0.7291571642723353                        \n",
      "SPACE:                                                                           \n",
      "{'max_depth': 6, 'objective': 'binary:logistic', 'nthread': 1, 'predictionCol': 'prediction', 'min_child_weight': 50.0, 'nworkers': 1, 'silent': 0, 'eval_metric': 'logloss', 'subsample': 0.9, 'gamma': 0.9, 'eta': 0.3, 'colsample_bytree': 0.9, 'featuresCol': 'features', 'num_round': 100, 'labelCol': 'label'}\n",
      "LOG-LOSS: 0.500513959536055, ROC-AUC: 0.7386819178312383                         \n",
      "SPACE:                                                                           \n",
      "{'max_depth': 6, 'objective': 'binary:logistic', 'nthread': 1, 'predictionCol': 'prediction', 'min_child_weight': 50.0, 'nworkers': 1, 'silent': 0, 'eval_metric': 'logloss', 'subsample': 0.9, 'gamma': 0.9, 'eta': 0.2, 'colsample_bytree': 0.9, 'featuresCol': 'features', 'num_round': 40, 'labelCol': 'label'}\n",
      "LOG-LOSS: 0.5050163785773465, ROC-AUC: 0.7330245029524207                        \n",
      "100%|██████████| 20/20 [20:26<00:00, 61.31s/trial, best loss: 0.5001351069105767]\n",
      "CPU times: user 1.91 s, sys: 530 ms, total: 2.44 s\n",
      "Wall time: 20min 26s\n"
     ]
    }
   ],
   "source": [
    "%%time\n",
    "\n",
    "num_round_choice = [10, 20, 40, 100]\n",
    "eta_choice = [0.5, 0.10, 0.15, 0.20, 0.30]\n",
    "\n",
    "space = {\n",
    "    # Optimize\n",
    "    'num_round': hp.choice('num_round', num_round_choice),\n",
    "    'eta': hp.choice('eta', eta_choice),\n",
    "    \n",
    "    # Fixed    \n",
    "    'max_depth': baseline_params['max_depth'],\n",
    "    'min_child_weight': baseline_params['min_child_weight'],\n",
    "    'subsample': baseline_params['subsample'],\n",
    "    'gamma': baseline_params['gamma'],\n",
    "    'colsample_bytree': baseline_params['colsample_bytree'],\n",
    "    \n",
    "    **static_params\n",
    "}\n",
    "\n",
    "\n",
    "trials = Trials()\n",
    "best = fmin(fn=objective,\n",
    "            space=space,\n",
    "            algo=tpe.suggest,\n",
    "            max_evals=20,\n",
    "            trials=trials)"
   ]
  },
  {
   "cell_type": "code",
   "execution_count": 23,
   "metadata": {},
   "outputs": [
    {
     "data": {
      "text/plain": [
       "{'eta': 0, 'num_round': 3}"
      ]
     },
     "execution_count": 23,
     "metadata": {},
     "output_type": "execute_result"
    }
   ],
   "source": [
    "best"
   ]
  },
  {
   "cell_type": "markdown",
   "metadata": {},
   "source": [
    "Обратите внимание на то, что в случае с `hp.choice` в переменной `best` хранится не конкретное значение гиперпараметра, а его индекс из списка, например, `num_round_choice`"
   ]
  },
  {
   "cell_type": "code",
   "execution_count": 25,
   "metadata": {},
   "outputs": [
    {
     "data": {
      "text/plain": [
       "(0.5, 100)"
      ]
     },
     "execution_count": 25,
     "metadata": {},
     "output_type": "execute_result"
    }
   ],
   "source": [
    "eta = eta_choice[best['eta']]  # change me!\n",
    "num_round = num_round_choice[best['num_round']]  # change me!\n",
    "eta, num_round"
   ]
  },
  {
   "cell_type": "markdown",
   "metadata": {},
   "source": [
    "### Tune tree-specific parameters\n",
    "\n",
    "> Tune tree-specific parameters ( max_depth, min_child_weight, gamma, subsample, colsample_bytree) for decided learning rate and number of trees. Note that we can choose different parameters to define a tree and I’ll take up an example here."
   ]
  },
  {
   "cell_type": "code",
   "execution_count": 26,
   "metadata": {},
   "outputs": [
    {
     "name": "stdout",
     "output_type": "stream",
     "text": [
      "SPACE:                                                \n",
      "{'max_depth': 4, 'objective': 'binary:logistic', 'nthread': 1, 'predictionCol': 'prediction', 'min_child_weight': 2.0, 'nworkers': 1, 'silent': 0, 'eval_metric': 'logloss', 'subsample': 0.9, 'gamma': 0.2, 'eta': 0.5, 'colsample_bytree': 0.8, 'featuresCol': 'features', 'num_round': 100, 'labelCol': 'label'}\n",
      "LOG-LOSS: 0.5019398551958152, ROC-AUC: 0.7368765374925562\n",
      "SPACE:                                                                          \n",
      "{'max_depth': 5, 'objective': 'binary:logistic', 'nthread': 1, 'predictionCol': 'prediction', 'min_child_weight': 3.0, 'nworkers': 1, 'silent': 0, 'eval_metric': 'logloss', 'subsample': 0.8, 'gamma': 0.2, 'eta': 0.5, 'colsample_bytree': 0.8, 'featuresCol': 'features', 'num_round': 100, 'labelCol': 'label'}\n",
      "LOG-LOSS: 0.5010071631844533, ROC-AUC: 0.7382098065757006                       \n",
      "SPACE:                                                                           \n",
      "{'max_depth': 8, 'objective': 'binary:logistic', 'nthread': 1, 'predictionCol': 'prediction', 'min_child_weight': 3.0, 'nworkers': 1, 'silent': 0, 'eval_metric': 'logloss', 'subsample': 1.0, 'gamma': 0.75, 'eta': 0.5, 'colsample_bytree': 1.0, 'featuresCol': 'features', 'num_round': 100, 'labelCol': 'label'}\n",
      "LOG-LOSS: 0.5022801851622974, ROC-AUC: 0.736356915286797                         \n",
      "SPACE:                                                                           \n",
      "{'max_depth': 8, 'objective': 'binary:logistic', 'nthread': 1, 'predictionCol': 'prediction', 'min_child_weight': 2.0, 'nworkers': 1, 'silent': 0, 'eval_metric': 'logloss', 'subsample': 1.0, 'gamma': 0.9, 'eta': 0.5, 'colsample_bytree': 1.0, 'featuresCol': 'features', 'num_round': 100, 'labelCol': 'label'}\n",
      "LOG-LOSS: 0.5025618799145046, ROC-AUC: 0.7361250317878675                        \n",
      "SPACE:                                                                           \n",
      "{'max_depth': 6, 'objective': 'binary:logistic', 'nthread': 1, 'predictionCol': 'prediction', 'min_child_weight': 3.0, 'nworkers': 1, 'silent': 0, 'eval_metric': 'logloss', 'subsample': 1.0, 'gamma': 0.0, 'eta': 0.5, 'colsample_bytree': 0.9, 'featuresCol': 'features', 'num_round': 100, 'labelCol': 'label'}\n",
      "LOG-LOSS: 0.5011391372603266, ROC-AUC: 0.7381334833024963                        \n",
      "SPACE:                                                                           \n",
      "{'max_depth': 5, 'objective': 'binary:logistic', 'nthread': 1, 'predictionCol': 'prediction', 'min_child_weight': 1.0, 'nworkers': 1, 'silent': 0, 'eval_metric': 'logloss', 'subsample': 0.9, 'gamma': 0.5, 'eta': 0.5, 'colsample_bytree': 1.0, 'featuresCol': 'features', 'num_round': 100, 'labelCol': 'label'}\n",
      "LOG-LOSS: 0.5014787454142585, ROC-AUC: 0.7374593748836124                        \n",
      "SPACE:                                                                           \n",
      "{'max_depth': 7, 'objective': 'binary:logistic', 'nthread': 1, 'predictionCol': 'prediction', 'min_child_weight': 2.0, 'nworkers': 1, 'silent': 0, 'eval_metric': 'logloss', 'subsample': 0.9, 'gamma': 0.9, 'eta': 0.5, 'colsample_bytree': 0.9, 'featuresCol': 'features', 'num_round': 100, 'labelCol': 'label'}\n",
      "LOG-LOSS: 0.5014003870652755, ROC-AUC: 0.7376500529778829                        \n",
      "SPACE:                                                                           \n",
      "{'max_depth': 6, 'objective': 'binary:logistic', 'nthread': 1, 'predictionCol': 'prediction', 'min_child_weight': 1.0, 'nworkers': 1, 'silent': 0, 'eval_metric': 'logloss', 'subsample': 0.9, 'gamma': 0.0, 'eta': 0.5, 'colsample_bytree': 0.9, 'featuresCol': 'features', 'num_round': 100, 'labelCol': 'label'}\n",
      "LOG-LOSS: 0.5010271061279363, ROC-AUC: 0.7380893388560323                        \n",
      "SPACE:                                                                           \n",
      "{'max_depth': 5, 'objective': 'binary:logistic', 'nthread': 1, 'predictionCol': 'prediction', 'min_child_weight': 3.0, 'nworkers': 1, 'silent': 0, 'eval_metric': 'logloss', 'subsample': 0.9, 'gamma': 0.75, 'eta': 0.5, 'colsample_bytree': 1.0, 'featuresCol': 'features', 'num_round': 100, 'labelCol': 'label'}\n",
      "LOG-LOSS: 0.5013392545012841, ROC-AUC: 0.7376620737166891                        \n",
      "SPACE:                                                                           \n",
      "{'max_depth': 6, 'objective': 'binary:logistic', 'nthread': 1, 'predictionCol': 'prediction', 'min_child_weight': 1.0, 'nworkers': 1, 'silent': 0, 'eval_metric': 'logloss', 'subsample': 0.8, 'gamma': 0.0, 'eta': 0.5, 'colsample_bytree': 0.8, 'featuresCol': 'features', 'num_round': 100, 'labelCol': 'label'}\n",
      "LOG-LOSS: 0.5016087819358155, ROC-AUC: 0.7371912028331509                        \n",
      "SPACE:                                                                            \n",
      "{'max_depth': 4, 'objective': 'binary:logistic', 'nthread': 1, 'predictionCol': 'prediction', 'min_child_weight': 2.0, 'nworkers': 1, 'silent': 0, 'eval_metric': 'logloss', 'subsample': 0.8, 'gamma': 0.0, 'eta': 0.5, 'colsample_bytree': 0.8, 'featuresCol': 'features', 'num_round': 100, 'labelCol': 'label'}\n",
      "LOG-LOSS: 0.5019137124042019, ROC-AUC: 0.7369885948887387                         \n",
      "SPACE:                                                                            \n",
      "{'max_depth': 5, 'objective': 'binary:logistic', 'nthread': 1, 'predictionCol': 'prediction', 'min_child_weight': 2.0, 'nworkers': 1, 'silent': 0, 'eval_metric': 'logloss', 'subsample': 0.9, 'gamma': 0.0, 'eta': 0.5, 'colsample_bytree': 1.0, 'featuresCol': 'features', 'num_round': 100, 'labelCol': 'label'}\n",
      "LOG-LOSS: 0.5013245264202998, ROC-AUC: 0.7376765635589663                         \n",
      "SPACE:                                                                            \n",
      "{'max_depth': 8, 'objective': 'binary:logistic', 'nthread': 1, 'predictionCol': 'prediction', 'min_child_weight': 1.0, 'nworkers': 1, 'silent': 0, 'eval_metric': 'logloss', 'subsample': 1.0, 'gamma': 0.0, 'eta': 0.5, 'colsample_bytree': 1.0, 'featuresCol': 'features', 'num_round': 100, 'labelCol': 'label'}\n",
      "LOG-LOSS: 0.5025128179698404, ROC-AUC: 0.7364538912549514                         \n",
      "SPACE:                                                                            \n",
      "{'max_depth': 6, 'objective': 'binary:logistic', 'nthread': 1, 'predictionCol': 'prediction', 'min_child_weight': 1.0, 'nworkers': 1, 'silent': 0, 'eval_metric': 'logloss', 'subsample': 0.8, 'gamma': 0.5, 'eta': 0.5, 'colsample_bytree': 0.9, 'featuresCol': 'features', 'num_round': 100, 'labelCol': 'label'}\n",
      "LOG-LOSS: 0.5012507920979108, ROC-AUC: 0.7376593800511468                         \n",
      "SPACE:                                                                            \n",
      "{'max_depth': 8, 'objective': 'binary:logistic', 'nthread': 1, 'predictionCol': 'prediction', 'min_child_weight': 2.0, 'nworkers': 1, 'silent': 0, 'eval_metric': 'logloss', 'subsample': 0.8, 'gamma': 0.9, 'eta': 0.5, 'colsample_bytree': 1.0, 'featuresCol': 'features', 'num_round': 100, 'labelCol': 'label'}\n",
      "LOG-LOSS: 0.5029594391165103, ROC-AUC: 0.7358633496042498                         \n",
      "SPACE:                                                                            \n",
      "{'max_depth': 8, 'objective': 'binary:logistic', 'nthread': 1, 'predictionCol': 'prediction', 'min_child_weight': 1.0, 'nworkers': 1, 'silent': 0, 'eval_metric': 'logloss', 'subsample': 0.9, 'gamma': 0.0, 'eta': 0.5, 'colsample_bytree': 0.9, 'featuresCol': 'features', 'num_round': 100, 'labelCol': 'label'}\n",
      "LOG-LOSS: 0.5027324103070503, ROC-AUC: 0.735928854351292                          \n",
      "SPACE:                                                                            \n",
      "{'max_depth': 5, 'objective': 'binary:logistic', 'nthread': 1, 'predictionCol': 'prediction', 'min_child_weight': 1.0, 'nworkers': 1, 'silent': 0, 'eval_metric': 'logloss', 'subsample': 0.8, 'gamma': 0.9, 'eta': 0.5, 'colsample_bytree': 0.9, 'featuresCol': 'features', 'num_round': 100, 'labelCol': 'label'}\n",
      "LOG-LOSS: 0.500949713790404, ROC-AUC: 0.7381149046267145                          \n",
      "SPACE:                                                                            \n",
      "{'max_depth': 8, 'objective': 'binary:logistic', 'nthread': 1, 'predictionCol': 'prediction', 'min_child_weight': 2.0, 'nworkers': 1, 'silent': 0, 'eval_metric': 'logloss', 'subsample': 0.9, 'gamma': 0.75, 'eta': 0.5, 'colsample_bytree': 0.8, 'featuresCol': 'features', 'num_round': 100, 'labelCol': 'label'}\n"
     ]
    },
    {
     "name": "stdout",
     "output_type": "stream",
     "text": [
      "LOG-LOSS: 0.5021191715432518, ROC-AUC: 0.7367349808277762                        \n",
      "SPACE:                                                                           \n",
      "{'max_depth': 6, 'objective': 'binary:logistic', 'nthread': 1, 'predictionCol': 'prediction', 'min_child_weight': 3.0, 'nworkers': 1, 'silent': 0, 'eval_metric': 'logloss', 'subsample': 1.0, 'gamma': 0.2, 'eta': 0.5, 'colsample_bytree': 1.0, 'featuresCol': 'features', 'num_round': 100, 'labelCol': 'label'}\n",
      "LOG-LOSS: 0.5011761807150377, ROC-AUC: 0.7376583980064656                        \n",
      "SPACE:                                                                           \n",
      "{'max_depth': 4, 'objective': 'binary:logistic', 'nthread': 1, 'predictionCol': 'prediction', 'min_child_weight': 3.0, 'nworkers': 1, 'silent': 0, 'eval_metric': 'logloss', 'subsample': 0.8, 'gamma': 0.75, 'eta': 0.5, 'colsample_bytree': 0.9, 'featuresCol': 'features', 'num_round': 100, 'labelCol': 'label'}\n",
      "LOG-LOSS: 0.502032681826571, ROC-AUC: 0.7368316105093476                         \n",
      "100%|██████████| 20/20 [48:14<00:00, 144.70s/trial, best loss: 0.500949713790404]\n",
      "CPU times: user 1.99 s, sys: 475 ms, total: 2.47 s\n",
      "Wall time: 48min 14s\n"
     ]
    }
   ],
   "source": [
    "%%time\n",
    "\n",
    "max_depth_choice = [4, 5, 6, 7, 8]\n",
    "min_child_weight_choice = [1.0, 2.0, 3.0]\n",
    "gamma_choice = [0.0, 0.2, 0.5, 0.75, 0.9]\n",
    "subsample_choice = [0.8, 0.9, 1.0]\n",
    "colsample_bytree_choice = [0.8, 0.9, 1.0]\n",
    "\n",
    "space = {\n",
    "    # Optimize\n",
    "    'max_depth': hp.choice('max_depth', max_depth_choice),\n",
    "    'min_child_weight': hp.choice('min_child_weight', min_child_weight_choice),\n",
    "    'gamma': hp.choice('gamma', gamma_choice),\n",
    "    'subsample': hp.choice('subsample', subsample_choice),\n",
    "    'colsample_bytree': hp.choice('colsample_bytree', colsample_bytree_choice),\n",
    "    \n",
    "    # Fixed\n",
    "    'eta': eta,\n",
    "    'num_round': num_round,\n",
    "    \n",
    "    **static_params\n",
    "}\n",
    "\n",
    "trials = Trials()\n",
    "best = fmin(fn=objective,\n",
    "            space=space,\n",
    "            algo=tpe.suggest,\n",
    "            max_evals=20,\n",
    "            trials=trials)"
   ]
  },
  {
   "cell_type": "code",
   "execution_count": 28,
   "metadata": {},
   "outputs": [
    {
     "data": {
      "text/plain": [
       "(5, 1.0, 0.9, 0.8, 0.9)"
      ]
     },
     "execution_count": 28,
     "metadata": {},
     "output_type": "execute_result"
    }
   ],
   "source": [
    "max_depth = max_depth_choice[best['max_depth']]\n",
    "min_child_weight = min_child_weight_choice[best['min_child_weight']]\n",
    "gamma = gamma_choice[best['gamma']]\n",
    "subsample = subsample_choice[best['subsample']]\n",
    "colsample_bytree = colsample_bytree_choice[best['colsample_bytree']]\n",
    "max_depth, min_child_weight, gamma, subsample, colsample_bytree"
   ]
  },
  {
   "cell_type": "markdown",
   "metadata": {},
   "source": [
    "### Tune regularization parameters\n",
    "\n",
    "> Tune regularization parameters (lambda, alpha) for xgboost which can help reduce model complexity and enhance performance."
   ]
  },
  {
   "cell_type": "code",
   "execution_count": 29,
   "metadata": {},
   "outputs": [
    {
     "name": "stdout",
     "output_type": "stream",
     "text": [
      "SPACE:                                                \n",
      "{'lambda': 0.1, 'max_depth': 5, 'objective': 'binary:logistic', 'nthread': 1, 'predictionCol': 'prediction', 'min_child_weight': 1.0, 'eval_metric': 'logloss', 'nworkers': 1, 'silent': 0, 'alpha': 0.3, 'subsample': 0.8, 'gamma': 0.9, 'eta': 0.5, 'colsample_bytree': 0.9, 'featuresCol': 'features', 'num_round': 100, 'labelCol': 'label'}\n",
      "LOG-LOSS: 0.5013403083742151, ROC-AUC: 0.7376794654435684\n",
      "SPACE:                                                                           \n",
      "{'lambda': 2.0, 'max_depth': 5, 'objective': 'binary:logistic', 'nthread': 1, 'predictionCol': 'prediction', 'min_child_weight': 1.0, 'eval_metric': 'logloss', 'nworkers': 1, 'silent': 0, 'alpha': 0.5, 'subsample': 0.8, 'gamma': 0.9, 'eta': 0.5, 'colsample_bytree': 0.9, 'featuresCol': 'features', 'num_round': 100, 'labelCol': 'label'}\n",
      "LOG-LOSS: 0.5008197045921008, ROC-AUC: 0.7382888938972683                        \n",
      "SPACE:                                                                           \n",
      "{'lambda': 0.5, 'max_depth': 5, 'objective': 'binary:logistic', 'nthread': 1, 'predictionCol': 'prediction', 'min_child_weight': 1.0, 'eval_metric': 'logloss', 'nworkers': 1, 'silent': 0, 'alpha': 0.3, 'subsample': 0.8, 'gamma': 0.9, 'eta': 0.5, 'colsample_bytree': 0.9, 'featuresCol': 'features', 'num_round': 100, 'labelCol': 'label'}\n",
      "LOG-LOSS: 0.5010319763786929, ROC-AUC: 0.7381432610416806                        \n",
      "SPACE:                                                                           \n",
      "{'lambda': 0.2, 'max_depth': 5, 'objective': 'binary:logistic', 'nthread': 1, 'predictionCol': 'prediction', 'min_child_weight': 1.0, 'eval_metric': 'logloss', 'nworkers': 1, 'silent': 0, 'alpha': 0.0, 'subsample': 0.8, 'gamma': 0.9, 'eta': 0.5, 'colsample_bytree': 0.9, 'featuresCol': 'features', 'num_round': 100, 'labelCol': 'label'}\n",
      "LOG-LOSS: 0.5015253750154415, ROC-AUC: 0.7374024592308834                        \n",
      "SPACE:                                                                           \n",
      "{'lambda': 0.5, 'max_depth': 5, 'objective': 'binary:logistic', 'nthread': 1, 'predictionCol': 'prediction', 'min_child_weight': 1.0, 'eval_metric': 'logloss', 'nworkers': 1, 'silent': 0, 'alpha': 0.0, 'subsample': 0.8, 'gamma': 0.9, 'eta': 0.5, 'colsample_bytree': 0.9, 'featuresCol': 'features', 'num_round': 100, 'labelCol': 'label'}\n",
      "LOG-LOSS: 0.5010949472175164, ROC-AUC: 0.7381357558274393                        \n",
      "SPACE:                                                                           \n",
      "{'lambda': 3.0, 'max_depth': 5, 'objective': 'binary:logistic', 'nthread': 1, 'predictionCol': 'prediction', 'min_child_weight': 1.0, 'eval_metric': 'logloss', 'nworkers': 1, 'silent': 0, 'alpha': 2.0, 'subsample': 0.8, 'gamma': 0.9, 'eta': 0.5, 'colsample_bytree': 0.9, 'featuresCol': 'features', 'num_round': 100, 'labelCol': 'label'}\n",
      "LOG-LOSS: 0.5006459091353158, ROC-AUC: 0.7386715411827904                        \n",
      "SPACE:                                                                           \n",
      "{'lambda': 0.5, 'max_depth': 5, 'objective': 'binary:logistic', 'nthread': 1, 'predictionCol': 'prediction', 'min_child_weight': 1.0, 'eval_metric': 'logloss', 'nworkers': 1, 'silent': 0, 'alpha': 3.0, 'subsample': 0.8, 'gamma': 0.9, 'eta': 0.5, 'colsample_bytree': 0.9, 'featuresCol': 'features', 'num_round': 100, 'labelCol': 'label'}\n",
      "LOG-LOSS: 0.5007016448643857, ROC-AUC: 0.7385606398996545                        \n",
      "SPACE:                                                                           \n",
      "{'lambda': 0.3, 'max_depth': 5, 'objective': 'binary:logistic', 'nthread': 1, 'predictionCol': 'prediction', 'min_child_weight': 1.0, 'eval_metric': 'logloss', 'nworkers': 1, 'silent': 0, 'alpha': 0.0, 'subsample': 0.8, 'gamma': 0.9, 'eta': 0.5, 'colsample_bytree': 0.9, 'featuresCol': 'features', 'num_round': 100, 'labelCol': 'label'}\n",
      "LOG-LOSS: 0.501447547922853, ROC-AUC: 0.7376789642068556                         \n",
      "SPACE:                                                                           \n",
      "{'lambda': 0.5, 'max_depth': 5, 'objective': 'binary:logistic', 'nthread': 1, 'predictionCol': 'prediction', 'min_child_weight': 1.0, 'eval_metric': 'logloss', 'nworkers': 1, 'silent': 0, 'alpha': 2.0, 'subsample': 0.8, 'gamma': 0.9, 'eta': 0.5, 'colsample_bytree': 0.9, 'featuresCol': 'features', 'num_round': 100, 'labelCol': 'label'}\n",
      "LOG-LOSS: 0.5008832433697642, ROC-AUC: 0.7383791764819762                        \n",
      "SPACE:                                                                           \n",
      "{'lambda': 0.3, 'max_depth': 5, 'objective': 'binary:logistic', 'nthread': 1, 'predictionCol': 'prediction', 'min_child_weight': 1.0, 'eval_metric': 'logloss', 'nworkers': 1, 'silent': 0, 'alpha': 0.0, 'subsample': 0.8, 'gamma': 0.9, 'eta': 0.5, 'colsample_bytree': 0.9, 'featuresCol': 'features', 'num_round': 100, 'labelCol': 'label'}\n",
      "LOG-LOSS: 0.501447547922853, ROC-AUC: 0.7376789642068542                         \n",
      "SPACE:                                                                            \n",
      "{'lambda': 0.2, 'max_depth': 5, 'objective': 'binary:logistic', 'nthread': 1, 'predictionCol': 'prediction', 'min_child_weight': 1.0, 'eval_metric': 'logloss', 'nworkers': 1, 'silent': 0, 'alpha': 0.3, 'subsample': 0.8, 'gamma': 0.9, 'eta': 0.5, 'colsample_bytree': 0.9, 'featuresCol': 'features', 'num_round': 100, 'labelCol': 'label'}\n",
      "LOG-LOSS: 0.5008647772021646, ROC-AUC: 0.7383719299804992                         \n",
      "SPACE:                                                                            \n",
      "{'lambda': 1.0, 'max_depth': 5, 'objective': 'binary:logistic', 'nthread': 1, 'predictionCol': 'prediction', 'min_child_weight': 1.0, 'eval_metric': 'logloss', 'nworkers': 1, 'silent': 0, 'alpha': 0.5, 'subsample': 0.8, 'gamma': 0.9, 'eta': 0.5, 'colsample_bytree': 0.9, 'featuresCol': 'features', 'num_round': 100, 'labelCol': 'label'}\n",
      "LOG-LOSS: 0.5009814912264545, ROC-AUC: 0.7381508575300374                         \n",
      "SPACE:                                                                            \n",
      "{'lambda': 0.2, 'max_depth': 5, 'objective': 'binary:logistic', 'nthread': 1, 'predictionCol': 'prediction', 'min_child_weight': 1.0, 'eval_metric': 'logloss', 'nworkers': 1, 'silent': 0, 'alpha': 3.0, 'subsample': 0.8, 'gamma': 0.9, 'eta': 0.5, 'colsample_bytree': 0.9, 'featuresCol': 'features', 'num_round': 100, 'labelCol': 'label'}\n",
      "LOG-LOSS: 0.5005037995984483, ROC-AUC: 0.7387922740907548                         \n",
      "SPACE:                                                                            \n",
      "{'lambda': 0.0, 'max_depth': 5, 'objective': 'binary:logistic', 'nthread': 1, 'predictionCol': 'prediction', 'min_child_weight': 1.0, 'eval_metric': 'logloss', 'nworkers': 1, 'silent': 0, 'alpha': 2.0, 'subsample': 0.8, 'gamma': 0.9, 'eta': 0.5, 'colsample_bytree': 0.9, 'featuresCol': 'features', 'num_round': 100, 'labelCol': 'label'}\n",
      "LOG-LOSS: 0.5007975494234365, ROC-AUC: 0.738401029385237                          \n",
      "SPACE:                                                                            \n",
      "{'lambda': 1.0, 'max_depth': 5, 'objective': 'binary:logistic', 'nthread': 1, 'predictionCol': 'prediction', 'min_child_weight': 1.0, 'eval_metric': 'logloss', 'nworkers': 1, 'silent': 0, 'alpha': 0.3, 'subsample': 0.8, 'gamma': 0.9, 'eta': 0.5, 'colsample_bytree': 0.9, 'featuresCol': 'features', 'num_round': 100, 'labelCol': 'label'}\n",
      "LOG-LOSS: 0.5011921554270834, ROC-AUC: 0.7380366544984301                         \n",
      "SPACE:                                                                            \n",
      "{'lambda': 0.5, 'max_depth': 5, 'objective': 'binary:logistic', 'nthread': 1, 'predictionCol': 'prediction', 'min_child_weight': 1.0, 'eval_metric': 'logloss', 'nworkers': 1, 'silent': 0, 'alpha': 0.3, 'subsample': 0.8, 'gamma': 0.9, 'eta': 0.5, 'colsample_bytree': 0.9, 'featuresCol': 'features', 'num_round': 100, 'labelCol': 'label'}\n",
      "LOG-LOSS: 0.5010319763786929, ROC-AUC: 0.7381432610416814                         \n",
      "SPACE:                                                                            \n",
      "{'lambda': 1.0, 'max_depth': 5, 'objective': 'binary:logistic', 'nthread': 1, 'predictionCol': 'prediction', 'min_child_weight': 1.0, 'eval_metric': 'logloss', 'nworkers': 1, 'silent': 0, 'alpha': 0.2, 'subsample': 0.8, 'gamma': 0.9, 'eta': 0.5, 'colsample_bytree': 0.9, 'featuresCol': 'features', 'num_round': 100, 'labelCol': 'label'}\n"
     ]
    },
    {
     "name": "stdout",
     "output_type": "stream",
     "text": [
      "LOG-LOSS: 0.5009948183757488, ROC-AUC: 0.7382672871411703                         \n",
      "SPACE:                                                                            \n",
      "{'lambda': 0.0, 'max_depth': 5, 'objective': 'binary:logistic', 'nthread': 1, 'predictionCol': 'prediction', 'min_child_weight': 1.0, 'eval_metric': 'logloss', 'nworkers': 1, 'silent': 0, 'alpha': 3.0, 'subsample': 0.8, 'gamma': 0.9, 'eta': 0.5, 'colsample_bytree': 0.9, 'featuresCol': 'features', 'num_round': 100, 'labelCol': 'label'}\n",
      "LOG-LOSS: 0.5005040925273453, ROC-AUC: 0.7387455526153412                         \n",
      "SPACE:                                                                            \n",
      "{'lambda': 0.2, 'max_depth': 5, 'objective': 'binary:logistic', 'nthread': 1, 'predictionCol': 'prediction', 'min_child_weight': 1.0, 'eval_metric': 'logloss', 'nworkers': 1, 'silent': 0, 'alpha': 3.0, 'subsample': 0.8, 'gamma': 0.9, 'eta': 0.5, 'colsample_bytree': 0.9, 'featuresCol': 'features', 'num_round': 100, 'labelCol': 'label'}\n",
      "LOG-LOSS: 0.5005037995984483, ROC-AUC: 0.7387922740907533                         \n",
      "SPACE:                                                                            \n",
      "{'lambda': 2.0, 'max_depth': 5, 'objective': 'binary:logistic', 'nthread': 1, 'predictionCol': 'prediction', 'min_child_weight': 1.0, 'eval_metric': 'logloss', 'nworkers': 1, 'silent': 0, 'alpha': 0.0, 'subsample': 0.8, 'gamma': 0.9, 'eta': 0.5, 'colsample_bytree': 0.9, 'featuresCol': 'features', 'num_round': 100, 'labelCol': 'label'}\n",
      "LOG-LOSS: 0.5009011867296085, ROC-AUC: 0.7383858516722712                         \n",
      "100%|██████████| 20/20 [42:04<00:00, 126.20s/trial, best loss: 0.5005037995984483]\n",
      "CPU times: user 1.96 s, sys: 500 ms, total: 2.46 s\n",
      "Wall time: 42min 4s\n"
     ]
    }
   ],
   "source": [
    "%%time\n",
    "\n",
    "lambda_choice = [0.0, 0.1, 0.2, 0.3, 0.5, 1.0, 2.0, 3.0]\n",
    "alpha_choice = [0.0, 0.1, 0.2, 0.3, 0.5, 1.0, 2.0, 3.0]\n",
    "\n",
    "space = {\n",
    "    # Optimize\n",
    "    'reg_lambda': hp.choice('lambda', lambda_choice),\n",
    "    'alpha': hp.choice('alpha', alpha_choice),\n",
    "    \n",
    "    # Fixed\n",
    "    'eta': eta,\n",
    "    'num_round': num_round,\n",
    "    'max_depth': max_depth,\n",
    "    'min_child_weight': min_child_weight,\n",
    "    'gamma': gamma,\n",
    "    'subsample': subsample,\n",
    "    'colsample_bytree': colsample_bytree,\n",
    "    \n",
    "    **static_params\n",
    "}\n",
    "\n",
    "trials = Trials()\n",
    "best = fmin(fn=objective,\n",
    "            space=space,\n",
    "            algo=tpe.suggest,\n",
    "            max_evals=20,\n",
    "            trials=trials)"
   ]
  },
  {
   "cell_type": "code",
   "execution_count": 33,
   "metadata": {},
   "outputs": [
    {
     "data": {
      "text/plain": [
       "(0.2, 3.0)"
      ]
     },
     "execution_count": 33,
     "metadata": {},
     "output_type": "execute_result"
    }
   ],
   "source": [
    "lambda_ = lambda_choice[best['lambda']]\n",
    "alpha = alpha_choice[best['alpha']]\n",
    "lambda_, alpha"
   ]
  },
  {
   "cell_type": "markdown",
   "metadata": {},
   "source": [
    "### Lower the learning rate and decide the optimal parameters"
   ]
  },
  {
   "cell_type": "code",
   "execution_count": null,
   "metadata": {},
   "outputs": [
    {
     "name": "stdout",
     "output_type": "stream",
     "text": [
      "SPACE:                                                \n",
      "{'lambda': 0.2, 'max_depth': 5, 'objective': 'binary:logistic', 'nthread': 1, 'predictionCol': 'prediction', 'min_child_weight': 1.0, 'eval_metric': 'logloss', 'nworkers': 1, 'silent': 0, 'alpha': 3.0, 'subsample': 0.8, 'gamma': 0.9, 'eta': 0.2730904686686966, 'colsample_bytree': 0.9, 'featuresCol': 'features', 'num_round': 100, 'labelCol': 'label'}\n",
      "LOG-LOSS: 0.5020502685752237, ROC-AUC: 0.7368689493298782\n",
      "SPACE:                                                                           \n",
      "{'lambda': 0.2, 'max_depth': 5, 'objective': 'binary:logistic', 'nthread': 1, 'predictionCol': 'prediction', 'min_child_weight': 1.0, 'eval_metric': 'logloss', 'nworkers': 1, 'silent': 0, 'alpha': 3.0, 'subsample': 0.8, 'gamma': 0.9, 'eta': 0.05459785327990466, 'colsample_bytree': 0.9, 'featuresCol': 'features', 'num_round': 100, 'labelCol': 'label'}\n",
      "LOG-LOSS: 0.5079548449715215, ROC-AUC: 0.729304051761509                         \n",
      "SPACE:                                                                           \n",
      "{'lambda': 0.2, 'max_depth': 5, 'objective': 'binary:logistic', 'nthread': 1, 'predictionCol': 'prediction', 'min_child_weight': 1.0, 'eval_metric': 'logloss', 'nworkers': 1, 'silent': 0, 'alpha': 3.0, 'subsample': 0.8, 'gamma': 0.9, 'eta': 0.3787460799594496, 'colsample_bytree': 0.9, 'featuresCol': 'features', 'num_round': 100, 'labelCol': 'label'}\n",
      "LOG-LOSS: 0.5010497915470249, ROC-AUC: 0.7380763015364025                        \n",
      "SPACE:                                                                           \n",
      "{'lambda': 0.2, 'max_depth': 5, 'objective': 'binary:logistic', 'nthread': 1, 'predictionCol': 'prediction', 'min_child_weight': 1.0, 'eval_metric': 'logloss', 'nworkers': 1, 'silent': 0, 'alpha': 3.0, 'subsample': 0.8, 'gamma': 0.9, 'eta': 0.7427830028413633, 'colsample_bytree': 0.9, 'featuresCol': 'features', 'num_round': 100, 'labelCol': 'label'}\n",
      " 15%|█▌        | 3/20 [06:25<36:11, 127.73s/trial, best loss: 0.5010497915470249]"
     ]
    }
   ],
   "source": [
    "%%time\n",
    "\n",
    "space = {\n",
    "    # Optimize\n",
    "    'eta': hp.uniform('eta', eta / 10, eta * 2),\n",
    "    \n",
    "    # Fixed\n",
    "    'num_round': num_round,\n",
    "    'max_depth': max_depth,\n",
    "    'min_child_weight': min_child_weight,\n",
    "    'gamma': gamma,\n",
    "    'subsample': subsample,\n",
    "    'colsample_bytree': colsample_bytree,\n",
    "    'alpha': alpha,\n",
    "    'reg_lambda': lambda_,\n",
    "    \n",
    "    **static_params\n",
    "}\n",
    "\n",
    "trials = Trials()\n",
    "best = fmin(fn=objective,\n",
    "            space=space,\n",
    "            algo=tpe.suggest,\n",
    "            max_evals=20,\n",
    "            trials=trials)"
   ]
  },
  {
   "cell_type": "code",
   "execution_count": 39,
   "metadata": {},
   "outputs": [
    {
     "data": {
      "text/plain": [
       "0.438962792765098"
      ]
     },
     "execution_count": 39,
     "metadata": {},
     "output_type": "execute_result"
    }
   ],
   "source": [
    "eta = best['eta']\n",
    "eta"
   ]
  },
  {
   "cell_type": "markdown",
   "metadata": {},
   "source": [
    "### Final"
   ]
  },
  {
   "cell_type": "code",
   "execution_count": 40,
   "metadata": {},
   "outputs": [],
   "source": [
    "xgb_hyperopt_space = {\n",
    "    'num_round': num_round,\n",
    "    'max_depth': max_depth,\n",
    "    'min_child_weight': min_child_weight,\n",
    "    'gamma': gamma,\n",
    "    'subsample': subsample,\n",
    "    'colsample_bytree': colsample_bytree,\n",
    "    'alpha': alpha,\n",
    "    'reg_lambda': lambda_,\n",
    "    'eta': eta,\n",
    "    **static_params\n",
    "}\n",
    "xgb_hyperopt = XGBoostEstimator(**xgb_hyperopt_space).fit(train_df)"
   ]
  },
  {
   "cell_type": "code",
   "execution_count": 41,
   "metadata": {},
   "outputs": [],
   "source": [
    "all_metrics['xgb_hyperopt'] = dict(\n",
    "    logloss=logloss(xgb_hyperopt, test_df, probabilities_col='probabilities'),\n",
    "    rocauc=rocauc(xgb_hyperopt, test_df, probabilities_col='probabilities'),\n",
    ")"
   ]
  },
  {
   "cell_type": "code",
   "execution_count": 42,
   "metadata": {},
   "outputs": [
    {
     "data": {
      "text/html": [
       "<div>\n",
       "<style scoped>\n",
       "    .dataframe tbody tr th:only-of-type {\n",
       "        vertical-align: middle;\n",
       "    }\n",
       "\n",
       "    .dataframe tbody tr th {\n",
       "        vertical-align: top;\n",
       "    }\n",
       "\n",
       "    .dataframe thead th {\n",
       "        text-align: right;\n",
       "    }\n",
       "</style>\n",
       "<table border=\"1\" class=\"dataframe\">\n",
       "  <thead>\n",
       "    <tr style=\"text-align: right;\">\n",
       "      <th></th>\n",
       "      <th>metric</th>\n",
       "      <th>xgb_hyperopt ate %</th>\n",
       "    </tr>\n",
       "  </thead>\n",
       "  <tbody>\n",
       "    <tr>\n",
       "      <th>0</th>\n",
       "      <td>logloss</td>\n",
       "      <td>-1.848411</td>\n",
       "    </tr>\n",
       "    <tr>\n",
       "      <th>1</th>\n",
       "      <td>rocauc</td>\n",
       "      <td>1.689775</td>\n",
       "    </tr>\n",
       "  </tbody>\n",
       "</table>\n",
       "</div>"
      ],
      "text/plain": [
       "    metric  xgb_hyperopt ate %\n",
       "0  logloss           -1.848411\n",
       "1   rocauc            1.689775"
      ]
     },
     "execution_count": 42,
     "metadata": {},
     "output_type": "execute_result"
    }
   ],
   "source": [
    "get_ate(all_metrics, CONTROL_NAME)"
   ]
  },
  {
   "cell_type": "markdown",
   "metadata": {},
   "source": [
    "---\n",
    "## LogisticRegression Tuning\n",
    "\n",
    "Подберем гиперпараметры для логрега из предыдущих практик"
   ]
  },
  {
   "cell_type": "code",
   "execution_count": 48,
   "metadata": {},
   "outputs": [],
   "source": [
    "from pyspark.ml.classification import LogisticRegression\n",
    "LogisticRegression?"
   ]
  },
  {
   "cell_type": "code",
   "execution_count": 53,
   "metadata": {},
   "outputs": [],
   "source": [
    "logreg_baseline_space = dict(\n",
    "    regParam=0.0,\n",
    "    elasticNetParam=0.0,\n",
    ")\n",
    "lr_model = LogisticRegression(**logreg_baseline_space).fit(train_df)"
   ]
  },
  {
   "cell_type": "code",
   "execution_count": 54,
   "metadata": {},
   "outputs": [
    {
     "data": {
      "text/html": [
       "<div>\n",
       "<style scoped>\n",
       "    .dataframe tbody tr th:only-of-type {\n",
       "        vertical-align: middle;\n",
       "    }\n",
       "\n",
       "    .dataframe tbody tr th {\n",
       "        vertical-align: top;\n",
       "    }\n",
       "\n",
       "    .dataframe thead th {\n",
       "        text-align: right;\n",
       "    }\n",
       "</style>\n",
       "<table border=\"1\" class=\"dataframe\">\n",
       "  <thead>\n",
       "    <tr style=\"text-align: right;\">\n",
       "      <th></th>\n",
       "      <th>logreg_baseline ate %</th>\n",
       "      <th>metric</th>\n",
       "      <th>xgb_hyperopt ate %</th>\n",
       "    </tr>\n",
       "  </thead>\n",
       "  <tbody>\n",
       "    <tr>\n",
       "      <th>0</th>\n",
       "      <td>3.634401</td>\n",
       "      <td>logloss</td>\n",
       "      <td>-1.848411</td>\n",
       "    </tr>\n",
       "    <tr>\n",
       "      <th>1</th>\n",
       "      <td>-3.313159</td>\n",
       "      <td>rocauc</td>\n",
       "      <td>1.689775</td>\n",
       "    </tr>\n",
       "  </tbody>\n",
       "</table>\n",
       "</div>"
      ],
      "text/plain": [
       "   logreg_baseline ate %   metric  xgb_hyperopt ate %\n",
       "0               3.634401  logloss           -1.848411\n",
       "1              -3.313159   rocauc            1.689775"
      ]
     },
     "execution_count": 54,
     "metadata": {},
     "output_type": "execute_result"
    }
   ],
   "source": [
    "all_metrics['logreg_baseline'] = dict(\n",
    "    logloss=logloss(lr_model, test_df, probabilities_col='probability'),\n",
    "    rocauc=rocauc(lr_model, test_df, probabilities_col='probability'),\n",
    ")\n",
    "get_ate(all_metrics, CONTROL_NAME)"
   ]
  },
  {
   "cell_type": "code",
   "execution_count": 55,
   "metadata": {},
   "outputs": [],
   "source": [
    "def objective(space):\n",
    "    model = LogisticRegression(**space).fit(train_df)\n",
    "    log_loss = logloss(model, val_df, probabilities_col='probability')\n",
    "    roc_auc = rocauc(model, val_df, probabilities_col='probability')\n",
    "    print('LOG-LOSS: {}, ROC-AUC: {}'.format(log_loss, roc_auc))\n",
    "    return {'loss': log_loss, 'rocauc': roc_auc, 'status': STATUS_OK}"
   ]
  },
  {
   "cell_type": "code",
   "execution_count": 57,
   "metadata": {},
   "outputs": [
    {
     "name": "stdout",
     "output_type": "stream",
     "text": [
      "LOG-LOSS: 0.5744867160831884, ROC-AUC: 0.5            \n",
      "LOG-LOSS: 0.5744867160831884, ROC-AUC: 0.5                                      \n",
      "LOG-LOSS: 0.5744867160831884, ROC-AUC: 0.5                                      \n",
      "LOG-LOSS: 0.5576806937855293, ROC-AUC: 0.6862189228452311                       \n",
      "LOG-LOSS: 0.5744867160831884, ROC-AUC: 0.5                                      \n",
      "LOG-LOSS: 0.5744867160831884, ROC-AUC: 0.5                                      \n",
      "LOG-LOSS: 0.5744867160831884, ROC-AUC: 0.5                                      \n",
      "LOG-LOSS: 0.5744867160831884, ROC-AUC: 0.5                                      \n",
      "LOG-LOSS: 0.5599357096054804, ROC-AUC: 0.6728079787248457                       \n",
      " 45%|████▌     | 9/20 [00:47<01:02,  5.64s/trial, best loss: 0.5576806937855293]"
     ]
    },
    {
     "name": "stderr",
     "output_type": "stream",
     "text": [
      "Exception ignored in: \n",
      "<object repr() failed>\n",
      "Traceback (most recent call last):\n",
      "\n",
      "  File \"/home/stanislavv/Apps/Conda/envs/bd/lib/python3.5/site-packages/pyspark/ml/wrapper.py\", line 40, in __del__\n",
      "\n",
      "if SparkContext._active_spark_context and self._java_obj is not None:\n",
      "AttributeError\n",
      ": \n",
      "'XGBoostEstimator' object has no attribute '_java_obj'\n"
     ]
    },
    {
     "name": "stdout",
     "output_type": "stream",
     "text": [
      "LOG-LOSS: 0.5744867160831884, ROC-AUC: 0.5                                      \n",
      "LOG-LOSS: 0.5744867160831884, ROC-AUC: 0.5                                       \n",
      "LOG-LOSS: 0.5744867160831884, ROC-AUC: 0.5                                       \n",
      "LOG-LOSS: 0.5744867160831884, ROC-AUC: 0.5                                       \n",
      "LOG-LOSS: 0.5744867160831884, ROC-AUC: 0.5                                       \n",
      "LOG-LOSS: 0.5744867160831884, ROC-AUC: 0.5                                       \n",
      "LOG-LOSS: 0.5654206379632322, ROC-AUC: 0.679885760159641                         \n",
      "LOG-LOSS: 0.5524166703299029, ROC-AUC: 0.6948106476914899                        \n",
      "LOG-LOSS: 0.564929339011796, ROC-AUC: 0.6624021327332127                         \n",
      "LOG-LOSS: 0.5744867160831884, ROC-AUC: 0.5                                       \n",
      "LOG-LOSS: 0.5744867160831884, ROC-AUC: 0.5                                       \n",
      "100%|██████████| 20/20 [01:46<00:00,  5.34s/trial, best loss: 0.5524166703299029]\n",
      "CPU times: user 1.16 s, sys: 250 ms, total: 1.4 s\n",
      "Wall time: 1min 46s\n"
     ]
    }
   ],
   "source": [
    "%%time\n",
    "\n",
    "space = {\n",
    "    # Optimize\n",
    "    'regParam': hp.uniform('regParam', 0.0, 1.0),\n",
    "    'elasticNetParam': hp.uniform('elasticNetParam', 0.0, 1.0),\n",
    "}\n",
    "\n",
    "trials = Trials()\n",
    "best = fmin(fn=objective,\n",
    "            space=space,\n",
    "            algo=tpe.suggest,\n",
    "            max_evals=20,\n",
    "            trials=trials)"
   ]
  },
  {
   "cell_type": "code",
   "execution_count": 60,
   "metadata": {},
   "outputs": [
    {
     "data": {
      "text/plain": [
       "{'elasticNetParam': 0.009628408454389503, 'regParam': 0.42429458052784585}"
      ]
     },
     "execution_count": 60,
     "metadata": {},
     "output_type": "execute_result"
    }
   ],
   "source": [
    "logreg_hyperopt_space = best\n",
    "logreg_hyperopt_space"
   ]
  },
  {
   "cell_type": "code",
   "execution_count": 61,
   "metadata": {},
   "outputs": [
    {
     "data": {
      "text/html": [
       "<div>\n",
       "<style scoped>\n",
       "    .dataframe tbody tr th:only-of-type {\n",
       "        vertical-align: middle;\n",
       "    }\n",
       "\n",
       "    .dataframe tbody tr th {\n",
       "        vertical-align: top;\n",
       "    }\n",
       "\n",
       "    .dataframe thead th {\n",
       "        text-align: right;\n",
       "    }\n",
       "</style>\n",
       "<table border=\"1\" class=\"dataframe\">\n",
       "  <thead>\n",
       "    <tr style=\"text-align: right;\">\n",
       "      <th></th>\n",
       "      <th>logreg_baseline ate %</th>\n",
       "      <th>logreg_hyperopt ate %</th>\n",
       "      <th>metric</th>\n",
       "      <th>xgb_hyperopt ate %</th>\n",
       "    </tr>\n",
       "  </thead>\n",
       "  <tbody>\n",
       "    <tr>\n",
       "      <th>0</th>\n",
       "      <td>3.634401</td>\n",
       "      <td>7.895084</td>\n",
       "      <td>logloss</td>\n",
       "      <td>-1.848411</td>\n",
       "    </tr>\n",
       "    <tr>\n",
       "      <th>1</th>\n",
       "      <td>-3.313159</td>\n",
       "      <td>-4.116621</td>\n",
       "      <td>rocauc</td>\n",
       "      <td>1.689775</td>\n",
       "    </tr>\n",
       "  </tbody>\n",
       "</table>\n",
       "</div>"
      ],
      "text/plain": [
       "   logreg_baseline ate %  logreg_hyperopt ate %   metric  xgb_hyperopt ate %\n",
       "0               3.634401               7.895084  logloss           -1.848411\n",
       "1              -3.313159              -4.116621   rocauc            1.689775"
      ]
     },
     "execution_count": 61,
     "metadata": {},
     "output_type": "execute_result"
    }
   ],
   "source": [
    "lr_model = LogisticRegression(**logreg_hyperopt_space).fit(train_df)\n",
    "all_metrics['logreg_hyperopt'] = dict(\n",
    "    logloss=logloss(lr_model, test_df, probabilities_col='probability'),\n",
    "    rocauc=rocauc(lr_model, test_df, probabilities_col='probability'),\n",
    ")\n",
    "get_ate(all_metrics, CONTROL_NAME)"
   ]
  },
  {
   "cell_type": "markdown",
   "metadata": {},
   "source": [
    "---\n",
    "## Optional [MongoTrials](https://hyperopt.github.io/hyperopt/scaleout/mongodb/)\n",
    "\n",
    "> For parallel search, hyperopt includes a MongoTrials implementation that supports asynchronous updates.\n",
    "\n",
    "**TLDR** Преимущества использования `MongoTrials`:\n",
    "* `MongoTrials` позволяет параллельно запускать несколько вычислений целевой функции\n",
    "* Динамический уровень параллелизма - можно добавлять/удалять воркеров, которые вычисляют целевую функцию\n",
    "* Все результаты сохраняются в БД - история запусков никуда не потеряется\n",
    "\n",
    "*За выполнение данного задания можно получить дополнительно +0.4 к итоговому баллу*"
   ]
  },
  {
   "cell_type": "markdown",
   "metadata": {},
   "source": [
    "### XGBoost Tuning"
   ]
  },
  {
   "cell_type": "code",
   "execution_count": null,
   "metadata": {},
   "outputs": [],
   "source": [
    "######################################\n",
    "######### YOUR CODE HERE #############\n",
    "######################################"
   ]
  },
  {
   "cell_type": "markdown",
   "metadata": {},
   "source": [
    "# Results\n",
    "\n",
    "Подведем итоги.\n",
    "\n",
    "Обучите модели с найденными (оптимальными) гиперпараметрами и сделайте справнение на отложенной выборке"
   ]
  },
  {
   "cell_type": "code",
   "execution_count": 62,
   "metadata": {},
   "outputs": [
    {
     "data": {
      "text/plain": [
       "{'logreg_baseline': {'logloss': 0.533040613185152,\n",
       "  'rocauc': 0.7000818520911786},\n",
       " 'logreg_hyperopt': {'logloss': 0.5549553205913881,\n",
       "  'rocauc': 0.694264210319586},\n",
       " 'xgb baseline': {'logloss': 0.5143471764449784, 'rocauc': 0.7240714922149476},\n",
       " 'xgb_hyperopt': {'logloss': 0.5048399273366083, 'rocauc': 0.7363066720756228}}"
      ]
     },
     "execution_count": 62,
     "metadata": {},
     "output_type": "execute_result"
    }
   ],
   "source": [
    "all_metrics"
   ]
  },
  {
   "cell_type": "markdown",
   "metadata": {},
   "source": [
    "Итоговая таблица"
   ]
  },
  {
   "cell_type": "code",
   "execution_count": 63,
   "metadata": {},
   "outputs": [
    {
     "data": {
      "text/html": [
       "<div>\n",
       "<style scoped>\n",
       "    .dataframe tbody tr th:only-of-type {\n",
       "        vertical-align: middle;\n",
       "    }\n",
       "\n",
       "    .dataframe tbody tr th {\n",
       "        vertical-align: top;\n",
       "    }\n",
       "\n",
       "    .dataframe thead th {\n",
       "        text-align: right;\n",
       "    }\n",
       "</style>\n",
       "<table border=\"1\" class=\"dataframe\">\n",
       "  <thead>\n",
       "    <tr style=\"text-align: right;\">\n",
       "      <th></th>\n",
       "      <th>logreg_baseline ate %</th>\n",
       "      <th>logreg_hyperopt ate %</th>\n",
       "      <th>metric</th>\n",
       "      <th>xgb_hyperopt ate %</th>\n",
       "    </tr>\n",
       "  </thead>\n",
       "  <tbody>\n",
       "    <tr>\n",
       "      <th>0</th>\n",
       "      <td>3.634401</td>\n",
       "      <td>7.895084</td>\n",
       "      <td>logloss</td>\n",
       "      <td>-1.848411</td>\n",
       "    </tr>\n",
       "    <tr>\n",
       "      <th>1</th>\n",
       "      <td>-3.313159</td>\n",
       "      <td>-4.116621</td>\n",
       "      <td>rocauc</td>\n",
       "      <td>1.689775</td>\n",
       "    </tr>\n",
       "  </tbody>\n",
       "</table>\n",
       "</div>"
      ],
      "text/plain": [
       "   logreg_baseline ate %  logreg_hyperopt ate %   metric  xgb_hyperopt ate %\n",
       "0               3.634401               7.895084  logloss           -1.848411\n",
       "1              -3.313159              -4.116621   rocauc            1.689775"
      ]
     },
     "execution_count": 63,
     "metadata": {},
     "output_type": "execute_result"
    }
   ],
   "source": [
    "get_ate(all_metrics, CONTROL_NAME)"
   ]
  },
  {
   "cell_type": "markdown",
   "metadata": {},
   "source": [
    "# Submission"
   ]
  },
  {
   "cell_type": "code",
   "execution_count": 91,
   "metadata": {},
   "outputs": [],
   "source": [
    "KAGGLE_DATA_PATH = '/home/stanislavv/data/criteo/kaggle-data'\n",
    "\n",
    "KAGGLE_TRAIN_PATH = os.path.join(KAGGLE_DATA_PATH, 'train.csv')\n",
    "KAGGLE_TEST_PATH = os.path.join(KAGGLE_DATA_PATH, 'test.csv')\n",
    "KAGGLE_SUBMISSION_PATH = os.path.join(KAGGLE_DATA_PATH, 'submission.csv')"
   ]
  },
  {
   "cell_type": "code",
   "execution_count": 92,
   "metadata": {},
   "outputs": [],
   "source": [
    "train_df = sqlContext.read.format(\"com.databricks.spark.csv\") \\\n",
    "    .option(\"delimiter\", \",\") \\\n",
    "    .option(\"header\", \"true\") \\\n",
    "    .option(\"inferSchema\", \"true\") \\\n",
    "    .load('file:///' + KAGGLE_TRAIN_PATH)\n",
    "\n",
    "train_df = train_df.fillna(0, subset=num_columns)\n",
    "train_df = pipeline_model \\\n",
    "    .transform(train_df) \\\n",
    "    .select(F.col('_c0').alias('label'), 'features', 'id') \\\n",
    "    .cache()"
   ]
  },
  {
   "cell_type": "code",
   "execution_count": 93,
   "metadata": {},
   "outputs": [],
   "source": [
    "best_model = XGBoostEstimator(**xgb_hyperopt_space).fit(train_df)"
   ]
  },
  {
   "cell_type": "code",
   "execution_count": 94,
   "metadata": {},
   "outputs": [],
   "source": [
    "test_df = sqlContext.read.format(\"com.databricks.spark.csv\") \\\n",
    "    .option(\"delimiter\", \",\") \\\n",
    "    .option(\"header\", \"true\") \\\n",
    "    .option(\"inferSchema\", \"true\") \\\n",
    "    .load('file:///' + KAGGLE_TEST_PATH)\n",
    "\n",
    "test_df = test_df.fillna(0, subset=num_columns)\n",
    "test_df = pipeline_model.transform(test_df).select('id', 'features')"
   ]
  },
  {
   "cell_type": "code",
   "execution_count": 95,
   "metadata": {},
   "outputs": [
    {
     "data": {
      "text/html": [
       "<div>\n",
       "<style scoped>\n",
       "    .dataframe tbody tr th:only-of-type {\n",
       "        vertical-align: middle;\n",
       "    }\n",
       "\n",
       "    .dataframe tbody tr th {\n",
       "        vertical-align: top;\n",
       "    }\n",
       "\n",
       "    .dataframe thead th {\n",
       "        text-align: right;\n",
       "    }\n",
       "</style>\n",
       "<table border=\"1\" class=\"dataframe\">\n",
       "  <thead>\n",
       "    <tr style=\"text-align: right;\">\n",
       "      <th></th>\n",
       "      <th>id</th>\n",
       "      <th>probabilities</th>\n",
       "      <th>proba</th>\n",
       "    </tr>\n",
       "  </thead>\n",
       "  <tbody>\n",
       "    <tr>\n",
       "      <th>0</th>\n",
       "      <td>566935904713</td>\n",
       "      <td>[0.6657132506370544, 0.33428674936294556]</td>\n",
       "      <td>0.334287</td>\n",
       "    </tr>\n",
       "    <tr>\n",
       "      <th>1</th>\n",
       "      <td>566935904715</td>\n",
       "      <td>[0.7560364603996277, 0.24396353960037231]</td>\n",
       "      <td>0.243964</td>\n",
       "    </tr>\n",
       "    <tr>\n",
       "      <th>2</th>\n",
       "      <td>566935904727</td>\n",
       "      <td>[0.6948901414871216, 0.3051098883152008]</td>\n",
       "      <td>0.305110</td>\n",
       "    </tr>\n",
       "    <tr>\n",
       "      <th>3</th>\n",
       "      <td>566935904737</td>\n",
       "      <td>[0.5388923287391663, 0.46110767126083374]</td>\n",
       "      <td>0.461108</td>\n",
       "    </tr>\n",
       "    <tr>\n",
       "      <th>4</th>\n",
       "      <td>566935904741</td>\n",
       "      <td>[0.7998224496841431, 0.20017752051353455]</td>\n",
       "      <td>0.200178</td>\n",
       "    </tr>\n",
       "  </tbody>\n",
       "</table>\n",
       "</div>"
      ],
      "text/plain": [
       "             id                              probabilities     proba\n",
       "0  566935904713  [0.6657132506370544, 0.33428674936294556]  0.334287\n",
       "1  566935904715  [0.7560364603996277, 0.24396353960037231]  0.243964\n",
       "2  566935904727   [0.6948901414871216, 0.3051098883152008]  0.305110\n",
       "3  566935904737  [0.5388923287391663, 0.46110767126083374]  0.461108\n",
       "4  566935904741  [0.7998224496841431, 0.20017752051353455]  0.200178"
      ]
     },
     "execution_count": 95,
     "metadata": {},
     "output_type": "execute_result"
    }
   ],
   "source": [
    "pred = best_model.transform(test_df).select('id', 'probabilities')\n",
    "pred = pred.toPandas()\n",
    "pred['proba'] = pred['probabilities'].map(lambda p: p[1] if not pd.isna(p[1]) else 0.)\n",
    "pred.head()"
   ]
  },
  {
   "cell_type": "code",
   "execution_count": 96,
   "metadata": {},
   "outputs": [],
   "source": [
    "pred[['id', 'proba']].to_csv(KAGGLE_SUBMISSION_PATH, index=False)"
   ]
  }
 ],
 "metadata": {
  "kernelspec": {
   "display_name": "Python 3",
   "language": "python",
   "name": "python3"
  },
  "language_info": {
   "codemirror_mode": {
    "name": "ipython",
    "version": 3
   },
   "file_extension": ".py",
   "mimetype": "text/x-python",
   "name": "python",
   "nbconvert_exporter": "python",
   "pygments_lexer": "ipython3",
   "version": "3.5.6"
  },
  "toc": {
   "base_numbering": 1,
   "nav_menu": {},
   "number_sections": true,
   "sideBar": true,
   "skip_h1_title": false,
   "title_cell": "Table of Contents",
   "title_sidebar": "Contents",
   "toc_cell": true,
   "toc_position": {},
   "toc_section_display": true,
   "toc_window_display": true
  }
 },
 "nbformat": 4,
 "nbformat_minor": 2
}
